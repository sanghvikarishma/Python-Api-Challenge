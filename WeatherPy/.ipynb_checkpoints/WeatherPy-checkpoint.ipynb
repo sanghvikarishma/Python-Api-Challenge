{
 "cells": [
  {
   "cell_type": "markdown",
   "metadata": {},
   "source": [
    "# WeatherPy\n",
    "\n",
    "---\n",
    "\n",
    "## Starter Code to Generate Random Geographic Coordinates and a List of Cities"
   ]
  },
  {
   "cell_type": "code",
   "execution_count": 1,
   "metadata": {
    "scrolled": true
   },
   "outputs": [
    {
     "name": "stdout",
     "output_type": "stream",
     "text": [
      "Intel MKL WARNING: Support of Intel(R) Streaming SIMD Extensions 4.2 (Intel(R) SSE4.2) enabled only processors has been deprecated. Intel oneAPI Math Kernel Library 2025.0 will require Intel(R) Advanced Vector Extensions (Intel(R) AVX) instructions.\n",
      "Intel MKL WARNING: Support of Intel(R) Streaming SIMD Extensions 4.2 (Intel(R) SSE4.2) enabled only processors has been deprecated. Intel oneAPI Math Kernel Library 2025.0 will require Intel(R) Advanced Vector Extensions (Intel(R) AVX) instructions.\n"
     ]
    }
   ],
   "source": [
    "# Dependencies and Setup\n",
    "\n",
    "import matplotlib.pyplot as plt\n",
    "import pandas as pd\n",
    "import numpy as np\n",
    "import requests\n",
    "import time\n",
    "import scipy.stats as st\n",
    "from scipy.stats import linregress\n",
    "import json\n",
    "\n",
    "# Import the OpenWeatherMap API key\n",
    "from api_keys import weather_api_key\n",
    "\n",
    "# Import citipy to determine the cities based on latitude and longitude\n",
    "from citipy import citipy"
   ]
  },
  {
   "cell_type": "markdown",
   "metadata": {},
   "source": [
    "### Generate the Cities List by Using the `citipy` Library"
   ]
  },
  {
   "cell_type": "code",
   "execution_count": 2,
   "metadata": {},
   "outputs": [
    {
     "name": "stdout",
     "output_type": "stream",
     "text": [
      "Number of cities in the list: 588\n"
     ]
    }
   ],
   "source": [
    "# Empty list for holding the latitude and longitude combinations\n",
    "lat_lngs = []\n",
    "\n",
    "# Empty list for holding the cities names\n",
    "cities = []\n",
    "\n",
    "# Range of latitudes and longitudes\n",
    "lat_range = (-90, 90)\n",
    "lng_range = (-180, 180)\n",
    "\n",
    "# Create a set of random lat and lng combinations\n",
    "lats = np.random.uniform(lat_range[0], lat_range[1], size=1500)\n",
    "lngs = np.random.uniform(lng_range[0], lng_range[1], size=1500)\n",
    "lat_lngs = zip(lats, lngs)\n",
    "\n",
    "# Identify nearest city for each lat, lng combination\n",
    "for lat_lng in lat_lngs:\n",
    "    city = citipy.nearest_city(lat_lng[0], lat_lng[1]).city_name\n",
    "    \n",
    "    # If the city is unique, then add it to a our cities list\n",
    "    if city not in cities:\n",
    "        cities.append(city)\n",
    "\n",
    "# Print the city count to confirm sufficient count\n",
    "print(f\"Number of cities in the list: {len(cities)}\")\n"
   ]
  },
  {
   "cell_type": "markdown",
   "metadata": {},
   "source": [
    "---"
   ]
  },
  {
   "cell_type": "markdown",
   "metadata": {},
   "source": [
    "## Requirement 1: Create Plots to Showcase the Relationship Between Weather Variables and Latitude\n",
    "\n",
    "### Use the OpenWeatherMap API to retrieve weather data from the cities list generated in the started code"
   ]
  },
  {
   "cell_type": "code",
   "execution_count": 3,
   "metadata": {},
   "outputs": [
    {
     "name": "stdout",
     "output_type": "stream",
     "text": [
      "Beginning Data Retrieval     \n",
      "-----------------------------\n",
      "Processing Record 1 of Set 1 | adamstown\n",
      "Processing Record 2 of Set 1 | taiohae\n",
      "City not found. Skipping...\n",
      "Processing Record 3 of Set 1 | forster\n",
      "Processing Record 4 of Set 1 | happy valley-goose bay\n",
      "Processing Record 5 of Set 1 | albany\n",
      "Processing Record 6 of Set 1 | alo\n",
      "Processing Record 7 of Set 1 | anadyr\n",
      "Processing Record 8 of Set 1 | sakaiminato\n",
      "Processing Record 9 of Set 1 | guerrero negro\n",
      "Processing Record 10 of Set 1 | guercif\n",
      "Processing Record 11 of Set 1 | prince george\n",
      "Processing Record 12 of Set 1 | tiksi\n",
      "Processing Record 13 of Set 1 | aykol\n",
      "City not found. Skipping...\n",
      "Processing Record 14 of Set 1 | gunnison\n",
      "Processing Record 15 of Set 1 | grytviken\n",
      "Processing Record 16 of Set 1 | ribeira grande\n",
      "Processing Record 17 of Set 1 | rundu\n",
      "Processing Record 18 of Set 1 | jamestown\n",
      "Processing Record 19 of Set 1 | menaka\n",
      "Processing Record 20 of Set 1 | blackmans bay\n",
      "Processing Record 21 of Set 1 | longyearbyen\n",
      "Processing Record 22 of Set 1 | margaret river\n",
      "Processing Record 23 of Set 1 | pisco\n",
      "Processing Record 24 of Set 1 | acapulco de juarez\n",
      "Processing Record 25 of Set 1 | kristiansund\n",
      "Processing Record 26 of Set 1 | udachny\n",
      "Processing Record 27 of Set 1 | utrik\n",
      "Processing Record 28 of Set 1 | puerto natales\n",
      "Processing Record 29 of Set 1 | port-aux-francais\n",
      "Processing Record 30 of Set 1 | lorengau\n",
      "Processing Record 31 of Set 1 | situbondo\n",
      "Processing Record 32 of Set 1 | atafu village\n",
      "Processing Record 33 of Set 1 | enewetak\n",
      "Processing Record 34 of Set 1 | waitangi\n",
      "Processing Record 35 of Set 1 | pacific grove\n",
      "Processing Record 36 of Set 1 | edinburgh of the seven seas\n",
      "Processing Record 37 of Set 1 | vorgashor\n",
      "Processing Record 38 of Set 1 | ban khlong bang sao thong\n",
      "Processing Record 39 of Set 1 | acajutla\n",
      "Processing Record 40 of Set 1 | ta'if\n",
      "Processing Record 41 of Set 1 | arvayheer\n",
      "Processing Record 42 of Set 1 | san juan bautista\n",
      "Processing Record 43 of Set 1 | aasiaat\n",
      "Processing Record 44 of Set 1 | saint-philippe\n",
      "Processing Record 45 of Set 1 | aykhal\n",
      "Processing Record 46 of Set 1 | ushuaia\n",
      "Processing Record 47 of Set 1 | ilulissat\n",
      "Processing Record 48 of Set 1 | invercargill\n",
      "Processing Record 49 of Set 1 | lompoc\n",
      "Processing Record 50 of Set 1 | kerimaki\n",
      "Processing Record 0 of Set 2 | vernon\n",
      "Processing Record 1 of Set 2 | tromso\n",
      "Processing Record 2 of Set 2 | hamilton\n",
      "Processing Record 3 of Set 2 | nemuro\n",
      "Processing Record 4 of Set 2 | korla\n",
      "Processing Record 5 of Set 2 | port mathurin\n",
      "Processing Record 6 of Set 2 | bikenibeu village\n",
      "Processing Record 7 of Set 2 | haiku-pauwela\n",
      "Processing Record 8 of Set 2 | veinticinco de mayo\n",
      "Processing Record 9 of Set 2 | bilibino\n",
      "Processing Record 10 of Set 2 | wailua homesteads\n",
      "Processing Record 11 of Set 2 | trosa\n",
      "Processing Record 12 of Set 2 | vila velha\n",
      "Processing Record 13 of Set 2 | chipinge\n",
      "Processing Record 14 of Set 2 | whitecourt\n",
      "Processing Record 15 of Set 2 | crane\n",
      "Processing Record 16 of Set 2 | hawaiian paradise park\n",
      "Processing Record 17 of Set 2 | harper\n",
      "Processing Record 18 of Set 2 | stanley\n",
      "Processing Record 19 of Set 2 | nova sintra\n",
      "Processing Record 20 of Set 2 | duncan town\n",
      "City not found. Skipping...\n",
      "Processing Record 21 of Set 2 | saipan\n",
      "Processing Record 22 of Set 2 | avarua\n",
      "Processing Record 23 of Set 2 | colonia\n",
      "Processing Record 24 of Set 2 | iqaluit\n",
      "Processing Record 25 of Set 2 | mukah\n",
      "City not found. Skipping...\n",
      "Processing Record 26 of Set 2 | baidoa\n",
      "Processing Record 27 of Set 2 | alice springs\n",
      "Processing Record 28 of Set 2 | tolanaro\n",
      "Processing Record 29 of Set 2 | acarau\n",
      "Processing Record 30 of Set 2 | west island\n",
      "Processing Record 31 of Set 2 | beni\n",
      "Processing Record 32 of Set 2 | ketchikan\n",
      "Processing Record 33 of Set 2 | sferracavallo\n",
      "Processing Record 34 of Set 2 | augusto correa\n",
      "Processing Record 35 of Set 2 | ola\n",
      "Processing Record 36 of Set 2 | puerto ayora\n",
      "Processing Record 37 of Set 2 | bayan nur\n",
      "City not found. Skipping...\n",
      "Processing Record 38 of Set 2 | college\n",
      "Processing Record 39 of Set 2 | bereznik\n",
      "Processing Record 40 of Set 2 | kashgar\n",
      "Processing Record 41 of Set 2 | ban phe\n",
      "City not found. Skipping...\n",
      "Processing Record 42 of Set 2 | sakassou\n",
      "Processing Record 43 of Set 2 | nikolayevsk-on-amure\n",
      "Processing Record 44 of Set 2 | chorbane\n",
      "Processing Record 45 of Set 2 | punta arenas\n",
      "Processing Record 46 of Set 2 | point pedro\n",
      "Processing Record 47 of Set 2 | chimoio\n",
      "Processing Record 48 of Set 2 | harstad\n",
      "Processing Record 49 of Set 2 | antofagasta\n",
      "Processing Record 0 of Set 3 | znamensk\n",
      "Processing Record 1 of Set 3 | port lincoln\n",
      "Processing Record 2 of Set 3 | badger\n",
      "Processing Record 3 of Set 3 | ribeira brava\n",
      "Processing Record 4 of Set 3 | rongelap\n",
      "Processing Record 5 of Set 3 | sierra grande\n",
      "Processing Record 6 of Set 3 | watford city\n",
      "Processing Record 7 of Set 3 | penzance\n",
      "Processing Record 8 of Set 3 | whitehorse\n",
      "Processing Record 9 of Set 3 | yangor\n",
      "City not found. Skipping...\n",
      "Processing Record 10 of Set 3 | noumea\n",
      "Processing Record 11 of Set 3 | tsiombe\n",
      "Processing Record 12 of Set 3 | ahau\n",
      "City not found. Skipping...\n",
      "Processing Record 13 of Set 3 | saint-leu\n",
      "Processing Record 14 of Set 3 | lodja\n",
      "Processing Record 15 of Set 3 | tual\n",
      "Processing Record 16 of Set 3 | abong mbang\n",
      "Processing Record 17 of Set 3 | mount isa\n",
      "Processing Record 18 of Set 3 | st. john's\n",
      "Processing Record 19 of Set 3 | ancud\n",
      "Processing Record 20 of Set 3 | mormugao\n",
      "Processing Record 21 of Set 3 | leninskoye\n",
      "Processing Record 22 of Set 3 | tonekabon\n",
      "Processing Record 23 of Set 3 | bethel\n",
      "Processing Record 24 of Set 3 | nar'yan-mar\n",
      "Processing Record 25 of Set 3 | la libertad\n",
      "Processing Record 26 of Set 3 | saint-pierre\n",
      "Processing Record 27 of Set 3 | manavalakurichi\n",
      "Processing Record 28 of Set 3 | thompson\n",
      "Processing Record 29 of Set 3 | kingston\n",
      "Processing Record 30 of Set 3 | perry\n",
      "Processing Record 31 of Set 3 | bredasdorp\n",
      "Processing Record 32 of Set 3 | isafjordur\n",
      "Processing Record 33 of Set 3 | ruma\n",
      "Processing Record 34 of Set 3 | port glaud\n",
      "City not found. Skipping...\n",
      "Processing Record 35 of Set 3 | sitka\n",
      "Processing Record 36 of Set 3 | sirnak\n",
      "Processing Record 37 of Set 3 | muzambinho\n",
      "Processing Record 38 of Set 3 | vanino\n",
      "Processing Record 39 of Set 3 | cidreira\n",
      "Processing Record 40 of Set 3 | new plymouth\n",
      "Processing Record 41 of Set 3 | fomboni\n",
      "Processing Record 42 of Set 3 | yellowknife\n",
      "Processing Record 43 of Set 3 | chandur\n",
      "Processing Record 44 of Set 3 | hotan\n",
      "Processing Record 45 of Set 3 | hermanus\n",
      "Processing Record 46 of Set 3 | uturoa\n",
      "Processing Record 47 of Set 3 | zeya\n",
      "Processing Record 48 of Set 3 | zonguldak\n",
      "Processing Record 49 of Set 3 | minas de marcona\n",
      "Processing Record 0 of Set 4 | port elizabeth\n",
      "Processing Record 1 of Set 4 | kodiak\n",
      "Processing Record 2 of Set 4 | 'ohonua\n",
      "City not found. Skipping...\n",
      "Processing Record 3 of Set 4 | prado\n",
      "Processing Record 4 of Set 4 | igarka\n",
      "Processing Record 5 of Set 4 | ha'il\n",
      "Processing Record 6 of Set 4 | port augusta\n",
      "Processing Record 7 of Set 4 | island harbour\n",
      "Processing Record 8 of Set 4 | bethanie\n",
      "Processing Record 9 of Set 4 | red hill\n",
      "Processing Record 10 of Set 4 | kapuskasing\n",
      "Processing Record 11 of Set 4 | keflavik\n",
      "Processing Record 12 of Set 4 | broome\n",
      "Processing Record 13 of Set 4 | kapoeta\n",
      "Processing Record 14 of Set 4 | conception bay south\n",
      "Processing Record 15 of Set 4 | arraial do cabo\n",
      "Processing Record 16 of Set 4 | uliastay\n",
      "Processing Record 17 of Set 4 | howrah\n",
      "Processing Record 18 of Set 4 | entebbe\n",
      "Processing Record 19 of Set 4 | lebu\n",
      "Processing Record 20 of Set 4 | gadzhiyevo\n",
      "Processing Record 21 of Set 4 | mount pearl\n",
      "Processing Record 22 of Set 4 | morant bay\n",
      "Processing Record 23 of Set 4 | la'ie\n",
      "Processing Record 24 of Set 4 | tazovsky\n",
      "Processing Record 25 of Set 4 | grojec\n",
      "Processing Record 26 of Set 4 | port alfred\n",
      "Processing Record 27 of Set 4 | xining\n",
      "Processing Record 28 of Set 4 | ust'-ilimsk\n",
      "Processing Record 29 of Set 4 | kismayo\n"
     ]
    },
    {
     "ename": "KeyboardInterrupt",
     "evalue": "",
     "output_type": "error",
     "traceback": [
      "\u001b[0;31m---------------------------------------------------------------------------\u001b[0m",
      "\u001b[0;31mKeyboardInterrupt\u001b[0m                         Traceback (most recent call last)",
      "Cell \u001b[0;32mIn[3], line 25\u001b[0m\n\u001b[1;32m     23\u001b[0m \u001b[38;5;66;03m# Create endpoint URL with each city\u001b[39;00m\n\u001b[1;32m     24\u001b[0m city_url \u001b[38;5;241m=\u001b[39m \u001b[38;5;124mf\u001b[39m\u001b[38;5;124m\"\u001b[39m\u001b[38;5;132;01m{\u001b[39;00murl\u001b[38;5;132;01m}\u001b[39;00m\u001b[38;5;132;01m{\u001b[39;00mcity\u001b[38;5;132;01m}\u001b[39;00m\u001b[38;5;124m&appid=\u001b[39m\u001b[38;5;132;01m{\u001b[39;00mweather_api_key\u001b[38;5;132;01m}\u001b[39;00m\u001b[38;5;124m\"\u001b[39m\n\u001b[0;32m---> 25\u001b[0m response \u001b[38;5;241m=\u001b[39m \u001b[43mrequests\u001b[49m\u001b[38;5;241;43m.\u001b[39;49m\u001b[43mget\u001b[49m\u001b[43m(\u001b[49m\u001b[43mcity_url\u001b[49m\u001b[43m)\u001b[49m\u001b[38;5;241m.\u001b[39mjson()\n\u001b[1;32m     27\u001b[0m \u001b[38;5;66;03m# Log the url, record, and set numbers\u001b[39;00m\n\u001b[1;32m     28\u001b[0m \u001b[38;5;28mprint\u001b[39m(\u001b[38;5;124m\"\u001b[39m\u001b[38;5;124mProcessing Record \u001b[39m\u001b[38;5;132;01m%s\u001b[39;00m\u001b[38;5;124m of Set \u001b[39m\u001b[38;5;132;01m%s\u001b[39;00m\u001b[38;5;124m | \u001b[39m\u001b[38;5;132;01m%s\u001b[39;00m\u001b[38;5;124m\"\u001b[39m \u001b[38;5;241m%\u001b[39m (record_count, set_count, city))\n",
      "File \u001b[0;32m~/anaconda3/lib/python3.10/site-packages/requests/api.py:73\u001b[0m, in \u001b[0;36mget\u001b[0;34m(url, params, **kwargs)\u001b[0m\n\u001b[1;32m     62\u001b[0m \u001b[38;5;28;01mdef\u001b[39;00m \u001b[38;5;21mget\u001b[39m(url, params\u001b[38;5;241m=\u001b[39m\u001b[38;5;28;01mNone\u001b[39;00m, \u001b[38;5;241m*\u001b[39m\u001b[38;5;241m*\u001b[39mkwargs):\n\u001b[1;32m     63\u001b[0m     \u001b[38;5;124mr\u001b[39m\u001b[38;5;124;03m\"\"\"Sends a GET request.\u001b[39;00m\n\u001b[1;32m     64\u001b[0m \n\u001b[1;32m     65\u001b[0m \u001b[38;5;124;03m    :param url: URL for the new :class:`Request` object.\u001b[39;00m\n\u001b[0;32m   (...)\u001b[0m\n\u001b[1;32m     70\u001b[0m \u001b[38;5;124;03m    :rtype: requests.Response\u001b[39;00m\n\u001b[1;32m     71\u001b[0m \u001b[38;5;124;03m    \"\"\"\u001b[39;00m\n\u001b[0;32m---> 73\u001b[0m     \u001b[38;5;28;01mreturn\u001b[39;00m \u001b[43mrequest\u001b[49m\u001b[43m(\u001b[49m\u001b[38;5;124;43m\"\u001b[39;49m\u001b[38;5;124;43mget\u001b[39;49m\u001b[38;5;124;43m\"\u001b[39;49m\u001b[43m,\u001b[49m\u001b[43m \u001b[49m\u001b[43murl\u001b[49m\u001b[43m,\u001b[49m\u001b[43m \u001b[49m\u001b[43mparams\u001b[49m\u001b[38;5;241;43m=\u001b[39;49m\u001b[43mparams\u001b[49m\u001b[43m,\u001b[49m\u001b[43m \u001b[49m\u001b[38;5;241;43m*\u001b[39;49m\u001b[38;5;241;43m*\u001b[39;49m\u001b[43mkwargs\u001b[49m\u001b[43m)\u001b[49m\n",
      "File \u001b[0;32m~/anaconda3/lib/python3.10/site-packages/requests/api.py:59\u001b[0m, in \u001b[0;36mrequest\u001b[0;34m(method, url, **kwargs)\u001b[0m\n\u001b[1;32m     55\u001b[0m \u001b[38;5;66;03m# By using the 'with' statement we are sure the session is closed, thus we\u001b[39;00m\n\u001b[1;32m     56\u001b[0m \u001b[38;5;66;03m# avoid leaving sockets open which can trigger a ResourceWarning in some\u001b[39;00m\n\u001b[1;32m     57\u001b[0m \u001b[38;5;66;03m# cases, and look like a memory leak in others.\u001b[39;00m\n\u001b[1;32m     58\u001b[0m \u001b[38;5;28;01mwith\u001b[39;00m sessions\u001b[38;5;241m.\u001b[39mSession() \u001b[38;5;28;01mas\u001b[39;00m session:\n\u001b[0;32m---> 59\u001b[0m     \u001b[38;5;28;01mreturn\u001b[39;00m \u001b[43msession\u001b[49m\u001b[38;5;241;43m.\u001b[39;49m\u001b[43mrequest\u001b[49m\u001b[43m(\u001b[49m\u001b[43mmethod\u001b[49m\u001b[38;5;241;43m=\u001b[39;49m\u001b[43mmethod\u001b[49m\u001b[43m,\u001b[49m\u001b[43m \u001b[49m\u001b[43murl\u001b[49m\u001b[38;5;241;43m=\u001b[39;49m\u001b[43murl\u001b[49m\u001b[43m,\u001b[49m\u001b[43m \u001b[49m\u001b[38;5;241;43m*\u001b[39;49m\u001b[38;5;241;43m*\u001b[39;49m\u001b[43mkwargs\u001b[49m\u001b[43m)\u001b[49m\n",
      "File \u001b[0;32m~/anaconda3/lib/python3.10/site-packages/requests/sessions.py:587\u001b[0m, in \u001b[0;36mSession.request\u001b[0;34m(self, method, url, params, data, headers, cookies, files, auth, timeout, allow_redirects, proxies, hooks, stream, verify, cert, json)\u001b[0m\n\u001b[1;32m    582\u001b[0m send_kwargs \u001b[38;5;241m=\u001b[39m {\n\u001b[1;32m    583\u001b[0m     \u001b[38;5;124m\"\u001b[39m\u001b[38;5;124mtimeout\u001b[39m\u001b[38;5;124m\"\u001b[39m: timeout,\n\u001b[1;32m    584\u001b[0m     \u001b[38;5;124m\"\u001b[39m\u001b[38;5;124mallow_redirects\u001b[39m\u001b[38;5;124m\"\u001b[39m: allow_redirects,\n\u001b[1;32m    585\u001b[0m }\n\u001b[1;32m    586\u001b[0m send_kwargs\u001b[38;5;241m.\u001b[39mupdate(settings)\n\u001b[0;32m--> 587\u001b[0m resp \u001b[38;5;241m=\u001b[39m \u001b[38;5;28;43mself\u001b[39;49m\u001b[38;5;241;43m.\u001b[39;49m\u001b[43msend\u001b[49m\u001b[43m(\u001b[49m\u001b[43mprep\u001b[49m\u001b[43m,\u001b[49m\u001b[43m \u001b[49m\u001b[38;5;241;43m*\u001b[39;49m\u001b[38;5;241;43m*\u001b[39;49m\u001b[43msend_kwargs\u001b[49m\u001b[43m)\u001b[49m\n\u001b[1;32m    589\u001b[0m \u001b[38;5;28;01mreturn\u001b[39;00m resp\n",
      "File \u001b[0;32m~/anaconda3/lib/python3.10/site-packages/requests/sessions.py:701\u001b[0m, in \u001b[0;36mSession.send\u001b[0;34m(self, request, **kwargs)\u001b[0m\n\u001b[1;32m    698\u001b[0m start \u001b[38;5;241m=\u001b[39m preferred_clock()\n\u001b[1;32m    700\u001b[0m \u001b[38;5;66;03m# Send the request\u001b[39;00m\n\u001b[0;32m--> 701\u001b[0m r \u001b[38;5;241m=\u001b[39m \u001b[43madapter\u001b[49m\u001b[38;5;241;43m.\u001b[39;49m\u001b[43msend\u001b[49m\u001b[43m(\u001b[49m\u001b[43mrequest\u001b[49m\u001b[43m,\u001b[49m\u001b[43m \u001b[49m\u001b[38;5;241;43m*\u001b[39;49m\u001b[38;5;241;43m*\u001b[39;49m\u001b[43mkwargs\u001b[49m\u001b[43m)\u001b[49m\n\u001b[1;32m    703\u001b[0m \u001b[38;5;66;03m# Total elapsed time of the request (approximately)\u001b[39;00m\n\u001b[1;32m    704\u001b[0m elapsed \u001b[38;5;241m=\u001b[39m preferred_clock() \u001b[38;5;241m-\u001b[39m start\n",
      "File \u001b[0;32m~/anaconda3/lib/python3.10/site-packages/requests/adapters.py:489\u001b[0m, in \u001b[0;36mHTTPAdapter.send\u001b[0;34m(self, request, stream, timeout, verify, cert, proxies)\u001b[0m\n\u001b[1;32m    487\u001b[0m \u001b[38;5;28;01mtry\u001b[39;00m:\n\u001b[1;32m    488\u001b[0m     \u001b[38;5;28;01mif\u001b[39;00m \u001b[38;5;129;01mnot\u001b[39;00m chunked:\n\u001b[0;32m--> 489\u001b[0m         resp \u001b[38;5;241m=\u001b[39m \u001b[43mconn\u001b[49m\u001b[38;5;241;43m.\u001b[39;49m\u001b[43murlopen\u001b[49m\u001b[43m(\u001b[49m\n\u001b[1;32m    490\u001b[0m \u001b[43m            \u001b[49m\u001b[43mmethod\u001b[49m\u001b[38;5;241;43m=\u001b[39;49m\u001b[43mrequest\u001b[49m\u001b[38;5;241;43m.\u001b[39;49m\u001b[43mmethod\u001b[49m\u001b[43m,\u001b[49m\n\u001b[1;32m    491\u001b[0m \u001b[43m            \u001b[49m\u001b[43murl\u001b[49m\u001b[38;5;241;43m=\u001b[39;49m\u001b[43murl\u001b[49m\u001b[43m,\u001b[49m\n\u001b[1;32m    492\u001b[0m \u001b[43m            \u001b[49m\u001b[43mbody\u001b[49m\u001b[38;5;241;43m=\u001b[39;49m\u001b[43mrequest\u001b[49m\u001b[38;5;241;43m.\u001b[39;49m\u001b[43mbody\u001b[49m\u001b[43m,\u001b[49m\n\u001b[1;32m    493\u001b[0m \u001b[43m            \u001b[49m\u001b[43mheaders\u001b[49m\u001b[38;5;241;43m=\u001b[39;49m\u001b[43mrequest\u001b[49m\u001b[38;5;241;43m.\u001b[39;49m\u001b[43mheaders\u001b[49m\u001b[43m,\u001b[49m\n\u001b[1;32m    494\u001b[0m \u001b[43m            \u001b[49m\u001b[43mredirect\u001b[49m\u001b[38;5;241;43m=\u001b[39;49m\u001b[38;5;28;43;01mFalse\u001b[39;49;00m\u001b[43m,\u001b[49m\n\u001b[1;32m    495\u001b[0m \u001b[43m            \u001b[49m\u001b[43massert_same_host\u001b[49m\u001b[38;5;241;43m=\u001b[39;49m\u001b[38;5;28;43;01mFalse\u001b[39;49;00m\u001b[43m,\u001b[49m\n\u001b[1;32m    496\u001b[0m \u001b[43m            \u001b[49m\u001b[43mpreload_content\u001b[49m\u001b[38;5;241;43m=\u001b[39;49m\u001b[38;5;28;43;01mFalse\u001b[39;49;00m\u001b[43m,\u001b[49m\n\u001b[1;32m    497\u001b[0m \u001b[43m            \u001b[49m\u001b[43mdecode_content\u001b[49m\u001b[38;5;241;43m=\u001b[39;49m\u001b[38;5;28;43;01mFalse\u001b[39;49;00m\u001b[43m,\u001b[49m\n\u001b[1;32m    498\u001b[0m \u001b[43m            \u001b[49m\u001b[43mretries\u001b[49m\u001b[38;5;241;43m=\u001b[39;49m\u001b[38;5;28;43mself\u001b[39;49m\u001b[38;5;241;43m.\u001b[39;49m\u001b[43mmax_retries\u001b[49m\u001b[43m,\u001b[49m\n\u001b[1;32m    499\u001b[0m \u001b[43m            \u001b[49m\u001b[43mtimeout\u001b[49m\u001b[38;5;241;43m=\u001b[39;49m\u001b[43mtimeout\u001b[49m\u001b[43m,\u001b[49m\n\u001b[1;32m    500\u001b[0m \u001b[43m        \u001b[49m\u001b[43m)\u001b[49m\n\u001b[1;32m    502\u001b[0m     \u001b[38;5;66;03m# Send the request.\u001b[39;00m\n\u001b[1;32m    503\u001b[0m     \u001b[38;5;28;01melse\u001b[39;00m:\n\u001b[1;32m    504\u001b[0m         \u001b[38;5;28;01mif\u001b[39;00m \u001b[38;5;28mhasattr\u001b[39m(conn, \u001b[38;5;124m\"\u001b[39m\u001b[38;5;124mproxy_pool\u001b[39m\u001b[38;5;124m\"\u001b[39m):\n",
      "File \u001b[0;32m~/anaconda3/lib/python3.10/site-packages/urllib3/connectionpool.py:703\u001b[0m, in \u001b[0;36mHTTPConnectionPool.urlopen\u001b[0;34m(self, method, url, body, headers, retries, redirect, assert_same_host, timeout, pool_timeout, release_conn, chunked, body_pos, **response_kw)\u001b[0m\n\u001b[1;32m    700\u001b[0m     \u001b[38;5;28mself\u001b[39m\u001b[38;5;241m.\u001b[39m_prepare_proxy(conn)\n\u001b[1;32m    702\u001b[0m \u001b[38;5;66;03m# Make the request on the httplib connection object.\u001b[39;00m\n\u001b[0;32m--> 703\u001b[0m httplib_response \u001b[38;5;241m=\u001b[39m \u001b[38;5;28;43mself\u001b[39;49m\u001b[38;5;241;43m.\u001b[39;49m\u001b[43m_make_request\u001b[49m\u001b[43m(\u001b[49m\n\u001b[1;32m    704\u001b[0m \u001b[43m    \u001b[49m\u001b[43mconn\u001b[49m\u001b[43m,\u001b[49m\n\u001b[1;32m    705\u001b[0m \u001b[43m    \u001b[49m\u001b[43mmethod\u001b[49m\u001b[43m,\u001b[49m\n\u001b[1;32m    706\u001b[0m \u001b[43m    \u001b[49m\u001b[43murl\u001b[49m\u001b[43m,\u001b[49m\n\u001b[1;32m    707\u001b[0m \u001b[43m    \u001b[49m\u001b[43mtimeout\u001b[49m\u001b[38;5;241;43m=\u001b[39;49m\u001b[43mtimeout_obj\u001b[49m\u001b[43m,\u001b[49m\n\u001b[1;32m    708\u001b[0m \u001b[43m    \u001b[49m\u001b[43mbody\u001b[49m\u001b[38;5;241;43m=\u001b[39;49m\u001b[43mbody\u001b[49m\u001b[43m,\u001b[49m\n\u001b[1;32m    709\u001b[0m \u001b[43m    \u001b[49m\u001b[43mheaders\u001b[49m\u001b[38;5;241;43m=\u001b[39;49m\u001b[43mheaders\u001b[49m\u001b[43m,\u001b[49m\n\u001b[1;32m    710\u001b[0m \u001b[43m    \u001b[49m\u001b[43mchunked\u001b[49m\u001b[38;5;241;43m=\u001b[39;49m\u001b[43mchunked\u001b[49m\u001b[43m,\u001b[49m\n\u001b[1;32m    711\u001b[0m \u001b[43m\u001b[49m\u001b[43m)\u001b[49m\n\u001b[1;32m    713\u001b[0m \u001b[38;5;66;03m# If we're going to release the connection in ``finally:``, then\u001b[39;00m\n\u001b[1;32m    714\u001b[0m \u001b[38;5;66;03m# the response doesn't need to know about the connection. Otherwise\u001b[39;00m\n\u001b[1;32m    715\u001b[0m \u001b[38;5;66;03m# it will also try to release it and we'll have a double-release\u001b[39;00m\n\u001b[1;32m    716\u001b[0m \u001b[38;5;66;03m# mess.\u001b[39;00m\n\u001b[1;32m    717\u001b[0m response_conn \u001b[38;5;241m=\u001b[39m conn \u001b[38;5;28;01mif\u001b[39;00m \u001b[38;5;129;01mnot\u001b[39;00m release_conn \u001b[38;5;28;01melse\u001b[39;00m \u001b[38;5;28;01mNone\u001b[39;00m\n",
      "File \u001b[0;32m~/anaconda3/lib/python3.10/site-packages/urllib3/connectionpool.py:449\u001b[0m, in \u001b[0;36mHTTPConnectionPool._make_request\u001b[0;34m(self, conn, method, url, timeout, chunked, **httplib_request_kw)\u001b[0m\n\u001b[1;32m    444\u001b[0m             httplib_response \u001b[38;5;241m=\u001b[39m conn\u001b[38;5;241m.\u001b[39mgetresponse()\n\u001b[1;32m    445\u001b[0m         \u001b[38;5;28;01mexcept\u001b[39;00m \u001b[38;5;167;01mBaseException\u001b[39;00m \u001b[38;5;28;01mas\u001b[39;00m e:\n\u001b[1;32m    446\u001b[0m             \u001b[38;5;66;03m# Remove the TypeError from the exception chain in\u001b[39;00m\n\u001b[1;32m    447\u001b[0m             \u001b[38;5;66;03m# Python 3 (including for exceptions like SystemExit).\u001b[39;00m\n\u001b[1;32m    448\u001b[0m             \u001b[38;5;66;03m# Otherwise it looks like a bug in the code.\u001b[39;00m\n\u001b[0;32m--> 449\u001b[0m             \u001b[43msix\u001b[49m\u001b[38;5;241;43m.\u001b[39;49m\u001b[43mraise_from\u001b[49m\u001b[43m(\u001b[49m\u001b[43me\u001b[49m\u001b[43m,\u001b[49m\u001b[43m \u001b[49m\u001b[38;5;28;43;01mNone\u001b[39;49;00m\u001b[43m)\u001b[49m\n\u001b[1;32m    450\u001b[0m \u001b[38;5;28;01mexcept\u001b[39;00m (SocketTimeout, BaseSSLError, SocketError) \u001b[38;5;28;01mas\u001b[39;00m e:\n\u001b[1;32m    451\u001b[0m     \u001b[38;5;28mself\u001b[39m\u001b[38;5;241m.\u001b[39m_raise_timeout(err\u001b[38;5;241m=\u001b[39me, url\u001b[38;5;241m=\u001b[39murl, timeout_value\u001b[38;5;241m=\u001b[39mread_timeout)\n",
      "File \u001b[0;32m<string>:3\u001b[0m, in \u001b[0;36mraise_from\u001b[0;34m(value, from_value)\u001b[0m\n",
      "File \u001b[0;32m~/anaconda3/lib/python3.10/site-packages/urllib3/connectionpool.py:444\u001b[0m, in \u001b[0;36mHTTPConnectionPool._make_request\u001b[0;34m(self, conn, method, url, timeout, chunked, **httplib_request_kw)\u001b[0m\n\u001b[1;32m    441\u001b[0m \u001b[38;5;28;01mexcept\u001b[39;00m \u001b[38;5;167;01mTypeError\u001b[39;00m:\n\u001b[1;32m    442\u001b[0m     \u001b[38;5;66;03m# Python 3\u001b[39;00m\n\u001b[1;32m    443\u001b[0m     \u001b[38;5;28;01mtry\u001b[39;00m:\n\u001b[0;32m--> 444\u001b[0m         httplib_response \u001b[38;5;241m=\u001b[39m \u001b[43mconn\u001b[49m\u001b[38;5;241;43m.\u001b[39;49m\u001b[43mgetresponse\u001b[49m\u001b[43m(\u001b[49m\u001b[43m)\u001b[49m\n\u001b[1;32m    445\u001b[0m     \u001b[38;5;28;01mexcept\u001b[39;00m \u001b[38;5;167;01mBaseException\u001b[39;00m \u001b[38;5;28;01mas\u001b[39;00m e:\n\u001b[1;32m    446\u001b[0m         \u001b[38;5;66;03m# Remove the TypeError from the exception chain in\u001b[39;00m\n\u001b[1;32m    447\u001b[0m         \u001b[38;5;66;03m# Python 3 (including for exceptions like SystemExit).\u001b[39;00m\n\u001b[1;32m    448\u001b[0m         \u001b[38;5;66;03m# Otherwise it looks like a bug in the code.\u001b[39;00m\n\u001b[1;32m    449\u001b[0m         six\u001b[38;5;241m.\u001b[39mraise_from(e, \u001b[38;5;28;01mNone\u001b[39;00m)\n",
      "File \u001b[0;32m~/anaconda3/lib/python3.10/http/client.py:1374\u001b[0m, in \u001b[0;36mHTTPConnection.getresponse\u001b[0;34m(self)\u001b[0m\n\u001b[1;32m   1372\u001b[0m \u001b[38;5;28;01mtry\u001b[39;00m:\n\u001b[1;32m   1373\u001b[0m     \u001b[38;5;28;01mtry\u001b[39;00m:\n\u001b[0;32m-> 1374\u001b[0m         \u001b[43mresponse\u001b[49m\u001b[38;5;241;43m.\u001b[39;49m\u001b[43mbegin\u001b[49m\u001b[43m(\u001b[49m\u001b[43m)\u001b[49m\n\u001b[1;32m   1375\u001b[0m     \u001b[38;5;28;01mexcept\u001b[39;00m \u001b[38;5;167;01mConnectionError\u001b[39;00m:\n\u001b[1;32m   1376\u001b[0m         \u001b[38;5;28mself\u001b[39m\u001b[38;5;241m.\u001b[39mclose()\n",
      "File \u001b[0;32m~/anaconda3/lib/python3.10/http/client.py:318\u001b[0m, in \u001b[0;36mHTTPResponse.begin\u001b[0;34m(self)\u001b[0m\n\u001b[1;32m    316\u001b[0m \u001b[38;5;66;03m# read until we get a non-100 response\u001b[39;00m\n\u001b[1;32m    317\u001b[0m \u001b[38;5;28;01mwhile\u001b[39;00m \u001b[38;5;28;01mTrue\u001b[39;00m:\n\u001b[0;32m--> 318\u001b[0m     version, status, reason \u001b[38;5;241m=\u001b[39m \u001b[38;5;28;43mself\u001b[39;49m\u001b[38;5;241;43m.\u001b[39;49m\u001b[43m_read_status\u001b[49m\u001b[43m(\u001b[49m\u001b[43m)\u001b[49m\n\u001b[1;32m    319\u001b[0m     \u001b[38;5;28;01mif\u001b[39;00m status \u001b[38;5;241m!=\u001b[39m CONTINUE:\n\u001b[1;32m    320\u001b[0m         \u001b[38;5;28;01mbreak\u001b[39;00m\n",
      "File \u001b[0;32m~/anaconda3/lib/python3.10/http/client.py:279\u001b[0m, in \u001b[0;36mHTTPResponse._read_status\u001b[0;34m(self)\u001b[0m\n\u001b[1;32m    278\u001b[0m \u001b[38;5;28;01mdef\u001b[39;00m \u001b[38;5;21m_read_status\u001b[39m(\u001b[38;5;28mself\u001b[39m):\n\u001b[0;32m--> 279\u001b[0m     line \u001b[38;5;241m=\u001b[39m \u001b[38;5;28mstr\u001b[39m(\u001b[38;5;28;43mself\u001b[39;49m\u001b[38;5;241;43m.\u001b[39;49m\u001b[43mfp\u001b[49m\u001b[38;5;241;43m.\u001b[39;49m\u001b[43mreadline\u001b[49m\u001b[43m(\u001b[49m\u001b[43m_MAXLINE\u001b[49m\u001b[43m \u001b[49m\u001b[38;5;241;43m+\u001b[39;49m\u001b[43m \u001b[49m\u001b[38;5;241;43m1\u001b[39;49m\u001b[43m)\u001b[49m, \u001b[38;5;124m\"\u001b[39m\u001b[38;5;124miso-8859-1\u001b[39m\u001b[38;5;124m\"\u001b[39m)\n\u001b[1;32m    280\u001b[0m     \u001b[38;5;28;01mif\u001b[39;00m \u001b[38;5;28mlen\u001b[39m(line) \u001b[38;5;241m>\u001b[39m _MAXLINE:\n\u001b[1;32m    281\u001b[0m         \u001b[38;5;28;01mraise\u001b[39;00m LineTooLong(\u001b[38;5;124m\"\u001b[39m\u001b[38;5;124mstatus line\u001b[39m\u001b[38;5;124m\"\u001b[39m)\n",
      "File \u001b[0;32m~/anaconda3/lib/python3.10/socket.py:705\u001b[0m, in \u001b[0;36mSocketIO.readinto\u001b[0;34m(self, b)\u001b[0m\n\u001b[1;32m    703\u001b[0m \u001b[38;5;28;01mwhile\u001b[39;00m \u001b[38;5;28;01mTrue\u001b[39;00m:\n\u001b[1;32m    704\u001b[0m     \u001b[38;5;28;01mtry\u001b[39;00m:\n\u001b[0;32m--> 705\u001b[0m         \u001b[38;5;28;01mreturn\u001b[39;00m \u001b[38;5;28;43mself\u001b[39;49m\u001b[38;5;241;43m.\u001b[39;49m\u001b[43m_sock\u001b[49m\u001b[38;5;241;43m.\u001b[39;49m\u001b[43mrecv_into\u001b[49m\u001b[43m(\u001b[49m\u001b[43mb\u001b[49m\u001b[43m)\u001b[49m\n\u001b[1;32m    706\u001b[0m     \u001b[38;5;28;01mexcept\u001b[39;00m timeout:\n\u001b[1;32m    707\u001b[0m         \u001b[38;5;28mself\u001b[39m\u001b[38;5;241m.\u001b[39m_timeout_occurred \u001b[38;5;241m=\u001b[39m \u001b[38;5;28;01mTrue\u001b[39;00m\n",
      "File \u001b[0;32m~/anaconda3/lib/python3.10/ssl.py:1274\u001b[0m, in \u001b[0;36mSSLSocket.recv_into\u001b[0;34m(self, buffer, nbytes, flags)\u001b[0m\n\u001b[1;32m   1270\u001b[0m     \u001b[38;5;28;01mif\u001b[39;00m flags \u001b[38;5;241m!=\u001b[39m \u001b[38;5;241m0\u001b[39m:\n\u001b[1;32m   1271\u001b[0m         \u001b[38;5;28;01mraise\u001b[39;00m \u001b[38;5;167;01mValueError\u001b[39;00m(\n\u001b[1;32m   1272\u001b[0m           \u001b[38;5;124m\"\u001b[39m\u001b[38;5;124mnon-zero flags not allowed in calls to recv_into() on \u001b[39m\u001b[38;5;132;01m%s\u001b[39;00m\u001b[38;5;124m\"\u001b[39m \u001b[38;5;241m%\u001b[39m\n\u001b[1;32m   1273\u001b[0m           \u001b[38;5;28mself\u001b[39m\u001b[38;5;241m.\u001b[39m\u001b[38;5;18m__class__\u001b[39m)\n\u001b[0;32m-> 1274\u001b[0m     \u001b[38;5;28;01mreturn\u001b[39;00m \u001b[38;5;28;43mself\u001b[39;49m\u001b[38;5;241;43m.\u001b[39;49m\u001b[43mread\u001b[49m\u001b[43m(\u001b[49m\u001b[43mnbytes\u001b[49m\u001b[43m,\u001b[49m\u001b[43m \u001b[49m\u001b[43mbuffer\u001b[49m\u001b[43m)\u001b[49m\n\u001b[1;32m   1275\u001b[0m \u001b[38;5;28;01melse\u001b[39;00m:\n\u001b[1;32m   1276\u001b[0m     \u001b[38;5;28;01mreturn\u001b[39;00m \u001b[38;5;28msuper\u001b[39m()\u001b[38;5;241m.\u001b[39mrecv_into(buffer, nbytes, flags)\n",
      "File \u001b[0;32m~/anaconda3/lib/python3.10/ssl.py:1130\u001b[0m, in \u001b[0;36mSSLSocket.read\u001b[0;34m(self, len, buffer)\u001b[0m\n\u001b[1;32m   1128\u001b[0m \u001b[38;5;28;01mtry\u001b[39;00m:\n\u001b[1;32m   1129\u001b[0m     \u001b[38;5;28;01mif\u001b[39;00m buffer \u001b[38;5;129;01mis\u001b[39;00m \u001b[38;5;129;01mnot\u001b[39;00m \u001b[38;5;28;01mNone\u001b[39;00m:\n\u001b[0;32m-> 1130\u001b[0m         \u001b[38;5;28;01mreturn\u001b[39;00m \u001b[38;5;28;43mself\u001b[39;49m\u001b[38;5;241;43m.\u001b[39;49m\u001b[43m_sslobj\u001b[49m\u001b[38;5;241;43m.\u001b[39;49m\u001b[43mread\u001b[49m\u001b[43m(\u001b[49m\u001b[38;5;28;43mlen\u001b[39;49m\u001b[43m,\u001b[49m\u001b[43m \u001b[49m\u001b[43mbuffer\u001b[49m\u001b[43m)\u001b[49m\n\u001b[1;32m   1131\u001b[0m     \u001b[38;5;28;01melse\u001b[39;00m:\n\u001b[1;32m   1132\u001b[0m         \u001b[38;5;28;01mreturn\u001b[39;00m \u001b[38;5;28mself\u001b[39m\u001b[38;5;241m.\u001b[39m_sslobj\u001b[38;5;241m.\u001b[39mread(\u001b[38;5;28mlen\u001b[39m)\n",
      "\u001b[0;31mKeyboardInterrupt\u001b[0m: "
     ]
    }
   ],
   "source": [
    "# Set the API base URL\n",
    "url = \"https://api.openweathermap.org/data/2.5/weather?q=\"\n",
    "\n",
    "# Define an empty list to fetch the weather data for each city\n",
    "city_data = []\n",
    "\n",
    "# Print to logger\n",
    "print(\"Beginning Data Retrieval     \")\n",
    "print(\"-----------------------------\")\n",
    "\n",
    "# Create counters\n",
    "record_count = 1\n",
    "set_count = 1\n",
    "\n",
    "# Loop through all the cities in our list to fetch weather data\n",
    "for i, city in enumerate(cities):\n",
    "        \n",
    "    # Group cities in sets of 50 for logging purposes\n",
    "    if (i % 50 == 0 and i >= 50):\n",
    "        set_count += 1\n",
    "        record_count = 0\n",
    "\n",
    "    # Create endpoint URL with each city\n",
    "    city_url = f\"{url}{city}&appid={weather_api_key}\"\n",
    "    response = requests.get(city_url).json()\n",
    "    \n",
    "    # Log the url, record, and set numbers\n",
    "    print(\"Processing Record %s of Set %s | %s\" % (record_count, set_count, city))\n",
    "\n",
    "    # Add 1 to the record count\n",
    "    record_count += 1\n",
    "\n",
    "    # Run an API request for each of the cities\n",
    "    try:\n",
    "        # Parse the JSON and retrieve data\n",
    "        city_weather = (response['weather'][0])\n",
    "\n",
    "        # Parse out latitude, longitude, max temp, humidity, cloudiness, wind speed, country, and date\n",
    "        city_lat = response[\"coord\"][\"lat\"]\n",
    "        city_lng = response[\"coord\"][\"lon\"]\n",
    "        city_max_temp = response[\"main\"][\"temp_max\"] - 273.15\n",
    "        city_humidity = response[\"main\"][\"humidity\"]\n",
    "        city_clouds = response[\"clouds\"][\"all\"]\n",
    "        city_wind = response[\"wind\"][\"speed\"]\n",
    "        city_country = response[\"sys\"][\"country\"]\n",
    "        city_date = response[\"dt\"]\n",
    "\n",
    "        # Append the City information into city_data list\n",
    "        city_data.append({\"City\": city, \n",
    "                          \"Lat\": city_lat, \n",
    "                          \"Lng\": city_lng, \n",
    "                          \"Max Temp\": city_max_temp,\n",
    "                          \"Humidity\": city_humidity,\n",
    "                          \"Cloudiness\": city_clouds,\n",
    "                          \"Wind Speed\": city_wind,\n",
    "                          \"Country\": city_country,\n",
    "                          \"Date\": city_date})\n",
    "\n",
    "    # If an error is experienced, skip the city\n",
    "    except:\n",
    "        print(\"City not found. Skipping...\")\n",
    "        pass\n",
    "              \n",
    "# Indicate that Data Loading is complete \n",
    "print(\"-----------------------------\")\n",
    "print(\"Data Retrieval Complete      \")\n",
    "print(\"-----------------------------\")"
   ]
  },
  {
   "cell_type": "code",
   "execution_count": null,
   "metadata": {},
   "outputs": [],
   "source": [
    "# Convert the cities weather data into a Pandas DataFrame\n",
    "city_data_df = pd.DataFrame(city_data)\n",
    "\n",
    "# Show Record Count\n",
    "city_data_df.count()"
   ]
  },
  {
   "cell_type": "code",
   "execution_count": null,
   "metadata": {},
   "outputs": [],
   "source": [
    "# Display sample data\n",
    "city_data_df.head()"
   ]
  },
  {
   "cell_type": "code",
   "execution_count": null,
   "metadata": {},
   "outputs": [],
   "source": [
    "# Export the City_Data into a csv\n",
    "city_data_df.to_csv(\"../output_data/cities.csv\", index_label=\"City_ID\")\n"
   ]
  },
  {
   "cell_type": "code",
   "execution_count": null,
   "metadata": {},
   "outputs": [],
   "source": [
    "# Read saved data\n",
    "city_data_df = pd.read_csv(\"../output_data/cities.csv\", index_col=\"City_ID\")\n",
    "\n",
    "# Display sample data\n",
    "city_data_df.head()"
   ]
  },
  {
   "cell_type": "markdown",
   "metadata": {},
   "source": [
    "### Create the Scatter Plots Requested\n",
    "\n",
    "#### Latitude Vs. Temperature"
   ]
  },
  {
   "cell_type": "code",
   "execution_count": null,
   "metadata": {
    "tags": []
   },
   "outputs": [],
   "source": [
    "# Build scatter plot for latitude vs. temperature\n",
    "lat_all = city_data_df[\"Lat\"]\n",
    "temp_all = city_data_df[\"Max Temp\"]\n",
    "plt.scatter(lat_all, temp_all, edgecolors=\"black\",facecolors=\"mediumslateblue\")\n",
    "\n",
    "# Incorporate the other graph properties\n",
    "plt.xlabel(\"Latitude\")\n",
    "plt.ylabel('Max Temperature (C)')\n",
    "plt.title(\"City Latitude vs. Max Temperature 2023-05-19\")\n",
    "plt.grid(True)\n",
    "\n",
    "# Save the figure\n",
    "plt.savefig(\"../output_data/Fig1.png\")\n",
    "\n",
    "# Show plot\n",
    "plt.show()"
   ]
  },
  {
   "cell_type": "markdown",
   "metadata": {},
   "source": [
    "#### Latitude Vs. Humidity"
   ]
  },
  {
   "cell_type": "code",
   "execution_count": null,
   "metadata": {},
   "outputs": [],
   "source": [
    "# Build the scatter plots for latitude vs. humidity\n",
    "lat_all = city_data_df[\"Lat\"]\n",
    "humid_all = city_data_df[\"Humidity\"]\n",
    "plt.scatter(lat_all, humid_all, edgecolors=\"black\",facecolors=\"mediumslateblue\")\n",
    "\n",
    "# Incorporate the other graph properties\n",
    "plt.xlabel(\"Latitude\")\n",
    "plt.ylabel('Humidity (%)')\n",
    "plt.title(\"City Latitude vs. Humidity 2023-05-19\")\n",
    "plt.grid(True)\n",
    "\n",
    "# Save the figure\n",
    "plt.savefig(\"../output_data/Fig2.png\")\n",
    "\n",
    "# Show plot\n",
    "plt.show()"
   ]
  },
  {
   "cell_type": "markdown",
   "metadata": {},
   "source": [
    "#### Latitude Vs. Cloudiness"
   ]
  },
  {
   "cell_type": "code",
   "execution_count": null,
   "metadata": {},
   "outputs": [],
   "source": [
    "# Build the scatter plots for latitude vs. cloudiness\n",
    "lat_all = city_data_df[\"Lat\"]\n",
    "cloud_all = city_data_df[\"Cloudiness\"]\n",
    "plt.scatter(lat_all, cloud_all, edgecolors=\"black\",facecolors=\"mediumslateblue\")\n",
    "\n",
    "# Incorporate the other graph properties\n",
    "plt.xlabel(\"Latitude\")\n",
    "plt.ylabel('Cloudiness (%)')\n",
    "plt.title(\"City Latitude vs. Cloudiness 2023-05-19\")\n",
    "plt.grid(True)\n",
    "\n",
    "# Save the figure\n",
    "plt.savefig(\"../output_data/Fig3.png\")\n",
    "\n",
    "# Show plot\n",
    "plt.show()"
   ]
  },
  {
   "cell_type": "markdown",
   "metadata": {},
   "source": [
    "#### Latitude vs. Wind Speed Plot"
   ]
  },
  {
   "cell_type": "code",
   "execution_count": null,
   "metadata": {},
   "outputs": [],
   "source": [
    "# Build the scatter plots for latitude vs. wind speed\n",
    "lat_all = city_data_df[\"Lat\"]\n",
    "wind_all = city_data_df[\"Wind Speed\"]\n",
    "plt.scatter(lat_all, wind_all, edgecolors=\"black\",facecolors=\"mediumslateblue\")\n",
    "\n",
    "# Incorporate the other graph properties\n",
    "plt.xlabel(\"Latitude\")\n",
    "plt.ylabel('Wind Speed (m/s)')\n",
    "plt.title(\"City Latitude vs. Wind Speed 2023-05-19\")\n",
    "plt.grid(True)\n",
    "\n",
    "# Save the figure\n",
    "plt.savefig(\"../output_data/Fig4.png\")\n",
    "\n",
    "# Show plot\n",
    "plt.show()"
   ]
  },
  {
   "cell_type": "markdown",
   "metadata": {},
   "source": [
    "---\n",
    "\n",
    "## Requirement 2: Compute Linear Regression for Each Relationship\n"
   ]
  },
  {
   "cell_type": "code",
   "execution_count": null,
   "metadata": {},
   "outputs": [],
   "source": [
    "# Define a function to create Linear Regression plots\n",
    "# Define Model:\n",
    "def linearRegression(x_values, y_values, regEQplotX, regEQplotY, y_label):\n",
    "    (slope, intercept, rvalue, pvalue, stderr) = linregress(x_values, y_values)\n",
    "    \n",
    "# Create regression line and add to plot\n",
    "    regress_values = x_values * slope + intercept\n",
    "    line_eq = \"y = \" + str(round(slope, 2)) + \"x + \" + str(round(intercept, 2))\n",
    "    plt.scatter(x_values, y_values)\n",
    "    plt.plot(x_values, regress_values, \"r-\")\n",
    "\n",
    "# Calculate and plot Pearson's r value\n",
    "    print(f\"The r-value is: {rvalue}\")\n",
    "    \n",
    "# Remaining graphical elements for all plots\n",
    "    plt.xlabel('Latitude')\n",
    "    plt.ylabel(f'{y_label}')\n",
    "    plt.grid()\n",
    "    \n",
    "    return line_eq, rvalue"
   ]
  },
  {
   "cell_type": "code",
   "execution_count": null,
   "metadata": {},
   "outputs": [],
   "source": [
    "# Create a DataFrame with the Northern Hemisphere data (Latitude >= 0)\n",
    "northern_hemi_df = city_data_df.loc[city_data_df[\"Lat\"] >= 0]\n",
    "\n",
    "# Display sample data\n",
    "northern_hemi_df.head()"
   ]
  },
  {
   "cell_type": "code",
   "execution_count": null,
   "metadata": {},
   "outputs": [],
   "source": [
    "# Create a DataFrame with the Southern Hemisphere data (Latitude < 0)\n",
    "southern_hemi_df = city_data_df[city_data_df['Lat'] < 0].copy()\n",
    "lat_all_north = southern_hemi_df[\"Lat\"]\n",
    "temp_all_north = southern_hemi_df[\"Max Temp\"]\n",
    "humid_all_north = northern_hemi_df[\"Humidity\"]\n",
    "cloud_all_north = northern_hemi_df[\"Cloudiness\"]\n",
    "wind_all_north = northern_hemi_df[\"Wind Speed\"]\n",
    "\n",
    "# Display sample data\n",
    "southern_hemi_df.head()"
   ]
  },
  {
   "cell_type": "markdown",
   "metadata": {},
   "source": [
    "###  Temperature vs. Latitude Linear Regression Plot"
   ]
  },
  {
   "cell_type": "code",
   "execution_count": null,
   "metadata": {},
   "outputs": [],
   "source": [
    "# Linear regression on Northern Hemisphere\n",
    "x_values = northern_hemi_df[\"Lat\"]\n",
    "y_values = northern_hemi_df[\"Max Temp\"]\n",
    "regEQplotX = 8\n",
    "regEQplotY = 0\n",
    "# Label the y axis\n",
    "y_label = 'Max Temperature (C)'\n",
    "plt.title(\"City Latitude (Northern Hemisphere) vs. Max Temperature 2023-05-19\")\n",
    "plt.grid(True)\n",
    "\n",
    "# Run the function with all 5 variables and store the returned values\n",
    "line_eq, r_squared = linearRegression(x_values, y_values, regEQplotX, regEQplotY, y_label)\n",
    "\n",
    "# Annotate the plot with line equation\n",
    "plt.annotate(line_eq, (8, 0), fontsize=15, color=\"red\")\n",
    "\n",
    "# Save the plot as a png to an output_data folder\n",
    "plt.savefig(\"../output_data/Fig5.png\")\n",
    "\n",
    "# Show plot\n",
    "plt.show()"
   ]
  },
  {
   "cell_type": "code",
   "execution_count": null,
   "metadata": {},
   "outputs": [],
   "source": [
    "# Linear regression on Southern Hemisphere\n",
    "x_values = southern_hemi_df[\"Lat\"]\n",
    "y_values = southern_hemi_df[\"Max Temp\"]\n",
    "\n",
    "regEQplotX = -55\n",
    "regEQplotY = 25\n",
    "\n",
    "# Label the y axis\n",
    "y_label = 'Max Temperature (C)'\n",
    "plt.title(\"City Latitude (Southern Hemisphere) vs. Max Temperature 2023-05-19\")\n",
    "plt.grid(True)\n",
    "\n",
    "# Run the function with all 5 variables and store the returned values\n",
    "line_eq, r_squared = linearRegression(x_values, y_values, regEQplotX, regEQplotY, y_label)\n",
    "\n",
    "# Annotate the plot with line equation\n",
    "plt.annotate(line_eq, (-55, 25), fontsize=15, color=\"red\")\n",
    "\n",
    "# Save the plot as a png to an output_data folder\n",
    "plt.savefig(\"../output_data/Fig6.png\")\n",
    "plt.show()"
   ]
  },
  {
   "cell_type": "markdown",
   "metadata": {},
   "source": [
    "**Discussion about the linear relationship:** \n",
    "Northeren Hemisphere : The regression displays a negative correlation.\n",
    "In the nothern hemisphere, as you move away from the equator the temperature decreases."
   ]
  },
  {
   "cell_type": "markdown",
   "metadata": {},
   "source": [
    "### Humidity vs. Latitude Linear Regression Plot"
   ]
  },
  {
   "cell_type": "code",
   "execution_count": null,
   "metadata": {},
   "outputs": [],
   "source": [
    "# Northern Hemisphere\n",
    "x_values = northern_hemi_df[\"Lat\"]\n",
    "y_values = northern_hemi_df[\"Humidity\"]\n",
    "\n",
    "regEQplotX = 45\n",
    "regEQplotY = 11\n",
    "\n",
    "# Label the y axis\n",
    "y_label = 'Humidity (%)'\n",
    "plt.title(\"City Latitude (Northern Hemisphere) vs. Humidity 2023-05-19\")\n",
    "plt.grid(True)\n",
    "\n",
    "# Run the function with all 5 variables and store the returned values\n",
    "line_eq, r_squared = linearRegression(x_values, y_values, regEQplotX, regEQplotY, y_label)\n",
    "\n",
    "# Annotate the plot with line equation\n",
    "plt.annotate(line_eq, (45, 11), fontsize=15, color=\"red\")\n",
    "\n",
    "# Save the plot as a png to an output_data folder\n",
    "plt.savefig(\"../output_data/Fig7.png\")\n",
    "\n",
    "# Show the plot\n",
    "plt.show()"
   ]
  },
  {
   "cell_type": "code",
   "execution_count": null,
   "metadata": {},
   "outputs": [],
   "source": [
    "# Southern Hemisphere\n",
    "x_values = southern_hemi_df[\"Lat\"]\n",
    "y_values = southern_hemi_df[\"Humidity\"]\n",
    "\n",
    "regEQplotX = -50\n",
    "regEQplotY = 25\n",
    "\n",
    "# Label the y axis\n",
    "y_label = 'Humidity (%)'\n",
    "plt.title(\"City Latitude (Southern Hemisphere) vs. Humidity 2023-05-19\")\n",
    "plt.grid(True)\n",
    "\n",
    "# Run the function with all 5 variables and store the returned values\n",
    "line_eq, r_squared = linearRegression(x_values, y_values, regEQplotX, regEQplotY, y_label)\n",
    "\n",
    "# Annotate the plot with line equation\n",
    "plt.annotate(line_eq, (-50, 25), fontsize=15, color=\"red\")\n",
    "\n",
    "# Save the plot as a png to an output_data folder\n",
    "plt.savefig(\"../output_data/Fig8.png\")\n",
    "\n",
    "# Show the plot\n",
    "plt.show()"
   ]
  },
  {
   "cell_type": "markdown",
   "metadata": {},
   "source": [
    "**Discussion about the linear relationship:** \n",
    "Southern Hemisphere : The regression displays a positive correlation.\n",
    "In the southern hemisphere, as you get closer to the equator the temperature increases."
   ]
  },
  {
   "cell_type": "markdown",
   "metadata": {},
   "source": [
    "### Cloudiness vs. Latitude Linear Regression Plot"
   ]
  },
  {
   "cell_type": "code",
   "execution_count": null,
   "metadata": {},
   "outputs": [],
   "source": [
    "# Northern Hemisphere\n",
    "x_values = northern_hemi_df[\"Lat\"]\n",
    "y_values = northern_hemi_df[\"Cloudiness\"]\n",
    "\n",
    "regEQplotX = 48\n",
    "regEQplotY = 45\n",
    "\n",
    "# Label the y axis\n",
    "y_label = 'Cloudiness (%)'\n",
    "plt.title(\"City Max Latitude (Northern Hemisphere) vs. Cloudiness 2023-05-19\")\n",
    "plt.grid(True)\n",
    "\n",
    "# Run the function with all 5 variables and store the returned values\n",
    "line_eq, r_squared = linearRegression(x_values, y_values, regEQplotX, regEQplotY, y_label)\n",
    "\n",
    "# Annotate the plot with line equation\n",
    "plt.annotate(line_eq, (48, 45), fontsize=15, color=\"red\")\n",
    "\n",
    "# Save the plot as a png to an output_data folder\n",
    "plt.savefig(\"../output_data/Fig9.png\")\n",
    "\n",
    "# Show the plot\n",
    "plt.show()"
   ]
  },
  {
   "cell_type": "code",
   "execution_count": null,
   "metadata": {},
   "outputs": [],
   "source": [
    "# Southern Hemisphere\n",
    "x_values = southern_hemi_df[\"Lat\"]\n",
    "y_values = southern_hemi_df[\"Cloudiness\"]\n",
    "\n",
    "regEQplotX = -55\n",
    "regEQplotY = 19\n",
    "\n",
    "# Label the y axis\n",
    "y_label = 'Cloudiness (%)'\n",
    "plt.title(\"City Latitude (Southern Hemisphere) vs. Cloudiness 2023-05-19\")\n",
    "plt.grid(True)\n",
    "\n",
    "# Run the function with all 5 variables and store the returned values\n",
    "line_eq, r_squared = linearRegression(x_values, y_values, regEQplotX, regEQplotY, y_label)\n",
    "\n",
    "# Annotate the plot with line equation\n",
    "plt.annotate(line_eq, (-55, 19), fontsize=15, color=\"red\")\n",
    "\n",
    "# Save the plot as a png to an output_data folder\n",
    "plt.savefig(\"../output_data/Fig10.png\")\n",
    "\n",
    "# Show the plot\n",
    "plt.show()"
   ]
  },
  {
   "cell_type": "markdown",
   "metadata": {},
   "source": [
    "**Discussion about the linear relationship:** \n",
    "Northern Hemisphere : The regression does not display much of a correlation between the data sets.\n",
    "Southern hemisphere : The regression does not display much of a correlation between the data sets."
   ]
  },
  {
   "cell_type": "markdown",
   "metadata": {},
   "source": [
    "### Wind Speed vs. Latitude Linear Regression Plot"
   ]
  },
  {
   "cell_type": "code",
   "execution_count": null,
   "metadata": {},
   "outputs": [],
   "source": [
    "# Northern Hemisphere\n",
    "x_values = northern_hemi_df[\"Lat\"]\n",
    "y_values = northern_hemi_df[\"Wind Speed\"]\n",
    "\n",
    "regEQplotX = 7\n",
    "regEQplotY = 9\n",
    "\n",
    "# Label the y axis\n",
    "y_label = 'Wind Speed (m/s)'\n",
    "plt.title(\"City Latitude (Northern Hemisphere) vs. Wind Speed 2023-05-19\")\n",
    "plt.grid(True)\n",
    "\n",
    "# Run the function with all 5 variables and store the returned values\n",
    "line_eq, r_squared = linearRegression(x_values, y_values, regEQplotX, regEQplotY, y_label)\n",
    "\n",
    "# Annotate the plot with line equation\n",
    "plt.annotate(line_eq, (7, 9), fontsize=15, color=\"red\")\n",
    "\n",
    "# Save the plot as a png to an output_data folder\n",
    "plt.savefig(\"../output_data/Fig11.png\")\n",
    "\n",
    "# Show the plot\n",
    "plt.show()"
   ]
  },
  {
   "cell_type": "code",
   "execution_count": null,
   "metadata": {},
   "outputs": [],
   "source": [
    "# Southern Hemisphere\n",
    "x_values = southern_hemi_df[\"Lat\"]\n",
    "y_values = southern_hemi_df[\"Wind Speed\"]\n",
    "\n",
    "# label the y axis\n",
    "y_label = 'Wind Speed (m/s)'\n",
    "plt.title(\"City Latitude (Southern Hemisphere) vs. Wind Speed 2023-05-19\")\n",
    "plt.grid(True)\n",
    "\n",
    "# Run the function with all 5 variables and store the returned values\n",
    "line_eq, r_squared = linearRegression(x_values, y_values, regEQplotX, regEQplotY, y_label)\n",
    "\n",
    "# Annotate the plot with line equation\n",
    "plt.annotate(line_eq, (-52, 10), fontsize=15, color=\"red\")\n",
    "\n",
    "# Save the plot as a png to an output_data folder\n",
    "plt.savefig(\"../output_data/Fig12.png\")\n",
    "\n",
    "# Show the plot\n",
    "plt.show()"
   ]
  },
  {
   "cell_type": "markdown",
   "metadata": {},
   "source": [
    "**Discussion about the linear relationship:** \n",
    "Northern Hemisphere :The regression does not display much of a correlation between the data sets.\n",
    "Southern Hemisphere : The regression does not display much of a correlation between the data sets."
   ]
  },
  {
   "cell_type": "code",
   "execution_count": null,
   "metadata": {},
   "outputs": [],
   "source": []
  }
 ],
 "metadata": {
  "anaconda-cloud": {},
  "kernel_info": {
   "name": "python3"
  },
  "kernelspec": {
   "display_name": "Python 3 (ipykernel)",
   "language": "python",
   "name": "python3"
  },
  "language_info": {
   "codemirror_mode": {
    "name": "ipython",
    "version": 3
   },
   "file_extension": ".py",
   "mimetype": "text/x-python",
   "name": "python",
   "nbconvert_exporter": "python",
   "pygments_lexer": "ipython3",
   "version": "3.10.9"
  },
  "latex_envs": {
   "LaTeX_envs_menu_present": true,
   "autoclose": false,
   "autocomplete": true,
   "bibliofile": "biblio.bib",
   "cite_by": "apalike",
   "current_citInitial": 1,
   "eqLabelWithNumbers": true,
   "eqNumInitial": 1,
   "hotkeys": {
    "equation": "Ctrl-E",
    "itemize": "Ctrl-I"
   },
   "labels_anchors": false,
   "latex_user_defs": false,
   "report_style_numbering": false,
   "user_envs_cfg": false
  },
  "nteract": {
   "version": "0.12.3"
  }
 },
 "nbformat": 4,
 "nbformat_minor": 4
}
